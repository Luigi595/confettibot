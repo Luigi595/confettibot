{
 "cells": [
  {
   "cell_type": "code",
   "execution_count": 1,
   "metadata": {},
   "outputs": [],
   "source": [
    "#ConfettiBot, por Luis García Nieto\n",
    "\n",
    "#Captura pantalla\n",
    "import pyscreenshot as ImageGrab\n",
    "\n",
    "#Lectura de texto en imagenes por tesseract ocr\n",
    "from PIL import Image\n",
    "import pytesseract\n",
    "#API de google para buscar por medio de terminal\n",
    "from googleapiclient.discovery import build\n",
    "\n",
    "#(Opcional) Para seleccionar la respuesta de manera automática\n",
    "import win32api, win32con"
   ]
  },
  {
   "cell_type": "code",
   "execution_count": 3,
   "metadata": {
    "collapsed": true
   },
   "outputs": [],
   "source": [
    "#Credenciales del buscador personalizado de Google\n",
    "my_key= #Inserta tu Google API key\n",
    "my_id= #Inserta la ID de tu Custom Search Engine\n",
    "\n",
    "#Camino a donde se encuentra instalado Google Tesseract OCR\n",
    "pytesseract.pytesseract.tesseract_cmd = r\"C:\\Program Files (x86)\\Tesseract-OCR\\tesseract\""
   ]
  },
  {
   "cell_type": "code",
   "execution_count": 4,
   "metadata": {
    "collapsed": true
   },
   "outputs": [],
   "source": [
    "#Busca search_term en Google\n",
    "def google_search(search_term, api_key, cse_id, mode, **kwargs):\n",
    "    service = build(\"customsearch\", \"v1\", developerKey=api_key)\n",
    "    res = service.cse().list(q=search_term, cx=cse_id, **kwargs).execute()\n",
    "    return res[mode]\n",
    "\n",
    "#Da click en coordenadas x,y de la pantalla\n",
    "def click(x,y):\n",
    "    win32api.SetCursorPos((x,y))\n",
    "    win32api.mouse_event(win32con.MOUSEEVENTF_LEFTDOWN,x,y,0,0)\n",
    "    win32api.mouse_event(win32con.MOUSEEVENTF_LEFTUP,x,y,0,0)\n",
    "\n",
    "#Modificar los parametros de click a la posición de las posibles respuestas\n",
    "def select(option):\n",
    "    if option==0:\n",
    "        click(740,580)\n",
    "        print(\"a\")\n",
    "    if option==1:\n",
    "        print(\"b\")\n",
    "        #Good position\n",
    "        click(740,650)\n",
    "    if option==2:\n",
    "        click(740,710)\n",
    "        print(\"c\")"
   ]
  },
  {
   "cell_type": "code",
   "execution_count": null,
   "metadata": {},
   "outputs": [],
   "source": [
    "import time\n",
    "start=time.time()\n",
    "\n",
    "#Captura la región donde se encuentran la pregunta y las respuestas\n",
    "qim=ImageGrab.grab(bbox=(700,470,1030,735))\n",
    "qim.save(\"t.png\")\n",
    "#Lee el texto en la captura\n",
    "ocr=pytesseract.image_to_string(Image.open(\"t.png\"),lang='spa')\n",
    "\n",
    "print(time.time()-start)\n",
    "\n",
    "#Horrible manipulación de los datos\n",
    "#Muy probablemente hay un error aquí  ¯\\_(ツ)_/¯\n",
    "#Nada optimizado\n",
    "data=[x.strip() for x in ocr.splitlines()]\n",
    "question=\" \".join(data[0:len(data)-6])\n",
    "print(question)\n",
    "print(\"\\n\")\n",
    "\n",
    "answers=data[-5:]\n",
    "answers=[x for x in answers if len(x)>0]\n",
    "ans=[x.split(\" \") for x in answers]\n",
    "ans=[[s for s in ans[i] if len(s)>2]for i in range(3)]\n",
    "ans=[\" \".join(y) for y in ans]\n",
    "\n",
    "\n",
    "#Método alternativo de respuesta, buscar la respuesta en los resultados de Google de la pregunta\n",
    "#Algo lento y no era mucho más acertado\n",
    "\"\"\"\n",
    "results = google_search(question, my_key, my_id,\"items\", num=10)\n",
    "dic={}\n",
    "\n",
    "for answer in ans:\n",
    "    count=0\n",
    "    for result in results:\n",
    "        if answer.lower() in result[\"snippet\"].lower():\n",
    "            count=count+1\n",
    "            print(answer)\n",
    "        if answer.lower() in result[\"title\"].lower():\n",
    "            count=count+1\n",
    "            print(answer)\n",
    "    dic[answer]=count\n",
    "\n",
    "print(dic)\n",
    "print(time.time()-start)\n",
    "\"\"\"\n",
    "#Método de respuesta, \n",
    "nums=[]\n",
    "for answer in answers:\n",
    "    temp = google_search(question+answer, my_key, my_id,\"searchInformation\", num=10)\n",
    "    print(temp)\n",
    "    nums.append(int(temp['totalResults']))\n",
    "    #Quedando poco tiempo selecciona A por default\n",
    "    if time.time()-start>9:\n",
    "        select(0)\n",
    "\n",
    "select(nums.index(max(nums)))\n",
    "print(time.time()-start)"
   ]
  },
  {
   "cell_type": "code",
   "execution_count": null,
   "metadata": {
    "collapsed": true
   },
   "outputs": [],
   "source": []
  }
 ],
 "metadata": {
  "kernelspec": {
   "display_name": "Python 3",
   "language": "python",
   "name": "python3"
  },
  "language_info": {
   "codemirror_mode": {
    "name": "ipython",
    "version": 3
   },
   "file_extension": ".py",
   "mimetype": "text/x-python",
   "name": "python",
   "nbconvert_exporter": "python",
   "pygments_lexer": "ipython3",
   "version": "3.6.2"
  }
 },
 "nbformat": 4,
 "nbformat_minor": 2
}
